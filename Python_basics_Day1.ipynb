{
  "nbformat": 4,
  "nbformat_minor": 0,
  "metadata": {
    "colab": {
      "provenance": [],
      "include_colab_link": true
    },
    "kernelspec": {
      "name": "python3",
      "display_name": "Python 3"
    },
    "language_info": {
      "name": "python"
    }
  },
  "cells": [
    {
      "cell_type": "markdown",
      "metadata": {
        "id": "view-in-github",
        "colab_type": "text"
      },
      "source": [
        "<a href=\"https://colab.research.google.com/github/SukumarmalliReddy/FMML_LABS/blob/main/Python_basics_Day1.ipynb\" target=\"_parent\"><img src=\"https://colab.research.google.com/assets/colab-badge.svg\" alt=\"Open In Colab\"/></a>"
      ]
    },
    {
      "cell_type": "markdown",
      "source": [
        "\n",
        "Declare a variable called \"aid\" and asign a value as your name then print the name like \"Kiet\"\n",
        "---\n",
        "\n"
      ],
      "metadata": {
        "id": "2UrXUibXpdQn"
      }
    },
    {
      "cell_type": "code",
      "source": [
        "#write your code here\n",
        "\n",
        "aid=\"kiet\"\n",
        "print(aid.capitalize())"
      ],
      "metadata": {
        "id": "-MFfUJNJp5wY",
        "outputId": "d407f72c-1abb-4c5a-fa19-196c34318845",
        "colab": {
          "base_uri": "https://localhost:8080/"
        }
      },
      "execution_count": 1,
      "outputs": [
        {
          "output_type": "stream",
          "name": "stdout",
          "text": [
            "Kiet\n"
          ]
        }
      ]
    },
    {
      "cell_type": "markdown",
      "source": [
        " declare a value to the valrable then print the type of value"
      ],
      "metadata": {
        "id": "b9GaqLWgqBOW"
      }
    },
    {
      "cell_type": "code",
      "source": [
        "#write your code here\n",
        "\n",
        "a=3425\n",
        "print(type(a))"
      ],
      "metadata": {
        "id": "P_U7hv3VqaCM",
        "outputId": "0f208d1c-17ba-42c9-8f33-addb88094fb1",
        "colab": {
          "base_uri": "https://localhost:8080/"
        }
      },
      "execution_count": 2,
      "outputs": [
        {
          "output_type": "stream",
          "name": "stdout",
          "text": [
            "<class 'int'>\n"
          ]
        }
      ]
    },
    {
      "cell_type": "markdown",
      "source": [
        "Write a python code using Format Method and \"fstrings\""
      ],
      "metadata": {
        "id": "qALPtb9iqdah"
      }
    },
    {
      "cell_type": "code",
      "source": [
        "#write your code here\n",
        "\n",
        "a=\"prasad\"\n",
        "b=\"kiet\"\n",
        "print(f\"{a} is studying in {b}\")"
      ],
      "metadata": {
        "id": "GybmaiaiqzQv",
        "outputId": "26ddb63b-4fdb-4bce-bf1d-11b449e36acc",
        "colab": {
          "base_uri": "https://localhost:8080/"
        }
      },
      "execution_count": 3,
      "outputs": [
        {
          "output_type": "stream",
          "name": "stdout",
          "text": [
            "prasad is studying in kiet\n"
          ]
        }
      ]
    },
    {
      "cell_type": "markdown",
      "source": [
        "Write a python code using .join() method\n",
        "\n",
        "Input format:\n",
        "kiet\n",
        "Output format:\n",
        "kkiet"
      ],
      "metadata": {
        "id": "WnitQ77GpcWQ"
      }
    },
    {
      "cell_type": "code",
      "source": [
        "#write your code here\n",
        "\n",
        "a=\"kiet\"\n",
        "b=list(a)\n",
        "b.insert(0,'k')\n",
        "c=''.join(b)\n",
        "\n",
        "print(c)"
      ],
      "metadata": {
        "id": "zmQ2Y2wjrY7-",
        "outputId": "f90bb5e8-373e-419c-a1c2-e26c4e98836b",
        "colab": {
          "base_uri": "https://localhost:8080/"
        }
      },
      "execution_count": 4,
      "outputs": [
        {
          "output_type": "stream",
          "name": "stdout",
          "text": [
            "kkiet\n"
          ]
        }
      ]
    },
    {
      "cell_type": "markdown",
      "source": [
        "Write a python code for checking whether the person is eligible for  Vote or Not  using conditionals"
      ],
      "metadata": {
        "id": "xzP0JMI5rWQ9"
      }
    },
    {
      "cell_type": "code",
      "source": [
        "#write your code here\n",
        "\n",
        "a=int(input(\"Enter the number: \"))\n",
        "if (a>=18):\n",
        "  print(\"Eligible for vote\")\n",
        "else:\n",
        "  print(\"Not eligible for vote\")"
      ],
      "metadata": {
        "id": "JEb5o1NTrz7V"
      },
      "execution_count": null,
      "outputs": []
    },
    {
      "cell_type": "markdown",
      "source": [
        "write simple codes using string methods:\n"
      ],
      "metadata": {
        "id": "KDH6s5xkr1L1"
      }
    },
    {
      "cell_type": "code",
      "source": [
        "\n",
        "\n",
        "#any 10 methods\n",
        "#write your code here\n",
        "\n",
        "\n",
        "#Capitalize()\n",
        "a=\"hello world\"\n",
        "print(a.capitalize())\n",
        "\n",
        "#casefold()\n",
        "a = \"Hello, I Am Abhinaya!\"\n",
        "b = a.casefold()\n",
        "print(b)\n",
        "\n",
        "#upper()\n",
        "a = \"Abhinaya\"\n",
        "b = a.upper()\n",
        "print(b)\n",
        "\n",
        "\n",
        "#lower()\n",
        "a = \"ABHINAYA\"\n",
        "b = a.lower()\n",
        "print(b)\n",
        "\n",
        "\n",
        "#isalnum()\n",
        "a = \"Abhinaya09\"\n",
        "b = a.isalnum()\n",
        "print(b)\n",
        "\n",
        "\n",
        "#isalpha()\n",
        "a = \"Abhinaya09\"\n",
        "b = a.isalpha()\n",
        "print(b)\n",
        "\n",
        "\n",
        "#isalnum()\n",
        "a = \"Abhinaya09\"\n",
        "b = a.isalnum()\n",
        "print(b)\n",
        "\n",
        "\n",
        "#isdecimal()\n",
        "a = \"1609\"\n",
        "b = a.isdecimal()\n",
        "print(b)\n",
        "\n",
        "\n",
        "#spilt()\n",
        "a=\"Welcome to my home\"\n",
        "b = a.split()\n",
        "print(b)\n",
        "\n",
        "\n",
        "a = \"     abhinaya     \"\n",
        "\n",
        "b = a.strip()\n",
        "\n",
        "print(b)"
      ],
      "metadata": {
        "id": "UiMrtWMPsagV",
        "outputId": "341d08a0-5a33-43c9-dfb5-44f781ff4249",
        "colab": {
          "base_uri": "https://localhost:8080/"
        }
      },
      "execution_count": 8,
      "outputs": [
        {
          "output_type": "stream",
          "name": "stdout",
          "text": [
            "Hello world\n",
            "hello, i am abhinaya!\n",
            "ABHINAYA\n",
            "abhinaya\n",
            "True\n",
            "False\n",
            "True\n",
            "True\n",
            "['Welcome', 'to', 'my', 'home']\n",
            "abhinaya\n"
          ]
        }
      ]
    },
    {
      "cell_type": "markdown",
      "source": [
        "#DEBUGGING"
      ],
      "metadata": {
        "id": "X4b8OXNish-E"
      }
    },
    {
      "cell_type": "code",
      "source": [
        "a=\"kiek\"\n",
        "b=\"kiet\"\n",
        "print(\"both {} and {} are in same campus\".format(a,b))\n",
        "#output should be like this\n",
        "#both kiet and kiek are in same campus"
      ],
      "metadata": {
        "colab": {
          "base_uri": "https://localhost:8080/"
        },
        "id": "eArmRQ2Xsg4b",
        "outputId": "58d6ab92-1158-4154-981a-aa635d913217"
      },
      "execution_count": 9,
      "outputs": [
        {
          "output_type": "stream",
          "name": "stdout",
          "text": [
            "both kiek and kiet are in same campus\n"
          ]
        }
      ]
    },
    {
      "cell_type": "code",
      "source": [
        "a=\"kiet\"\n",
        "b=\"kiek\"\n",
        "print(\"both {} and {} are in same campus\".format(a,b))\n",
        "#both kiet and kiek are in same campus\n",
        "#correct the output"
      ],
      "metadata": {
        "colab": {
          "base_uri": "https://localhost:8080/"
        },
        "id": "NTSKMEAftLde",
        "outputId": "9441a8e3-c039-4ace-cfac-8d71c61d5268"
      },
      "execution_count": 10,
      "outputs": [
        {
          "output_type": "stream",
          "name": "stdout",
          "text": [
            "both kiet and kiek are in same campus\n"
          ]
        }
      ]
    },
    {
      "cell_type": "code",
      "source": [
        "a=5\n",
        "b=12\n",
        "if a==5 and b==12:\n",
        "  print(a,b)\n",
        "# correct the code"
      ],
      "metadata": {
        "colab": {
          "base_uri": "https://localhost:8080/"
        },
        "id": "1Kl6TiW5t85r",
        "outputId": "a6d72302-cd12-4bd6-bfa7-d3806549cbe0"
      },
      "execution_count": 11,
      "outputs": [
        {
          "output_type": "stream",
          "name": "stdout",
          "text": [
            "5 12\n"
          ]
        }
      ]
    },
    {
      "cell_type": "code",
      "source": [
        "if a%2==0:\n",
        "   print(\"a is divisible by 2\")\n",
        "\n",
        "else:\n",
        "    print(\"not divisible\")"
      ],
      "metadata": {
        "id": "HZn24oUpucy8",
        "colab": {
          "base_uri": "https://localhost:8080/"
        },
        "outputId": "ae0d4b61-0fee-4ce4-a999-ebb7d9797581"
      },
      "execution_count": 12,
      "outputs": [
        {
          "output_type": "stream",
          "name": "stdout",
          "text": [
            "not divisible\n"
          ]
        }
      ]
    }
  ]
}